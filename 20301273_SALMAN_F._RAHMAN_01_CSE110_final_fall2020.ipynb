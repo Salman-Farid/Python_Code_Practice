{
 "cells": [
  {
   "cell_type": "markdown",
   "metadata": {
    "id": "m8sEAZnyvfhU"
   },
   "source": [
    "# Task 1"
   ]
  },
  {
   "cell_type": "code",
   "execution_count": null,
   "metadata": {
    "id": "Rbo26B5Bvfhc"
   },
   "outputs": [],
   "source": [
    "#Write your code of task 01 here\n",
    "\n"
   ]
  },
  {
   "cell_type": "markdown",
   "metadata": {
    "id": "xm__iPVgvfhe"
   },
   "source": [
    "# Task 2"
   ]
  },
  {
   "cell_type": "code",
   "execution_count": null,
   "metadata": {
    "id": "A7IaXd_Uvfhe"
   },
   "outputs": [],
   "source": [
    "#Write your code of task 02 here\n",
    "\n"
   ]
  },
  {
   "cell_type": "markdown",
   "metadata": {
    "id": "vFdPiJGhvoRH"
   },
   "source": [
    "# Task 03"
   ]
  },
  {
   "cell_type": "code",
   "execution_count": null,
   "metadata": {
    "id": "9B4Oa0eSvfhf"
   },
   "outputs": [],
   "source": [
    "#Write your code of Task 03 here\n",
    "\n",
    "\n"
   ]
  },
  {
   "cell_type": "markdown",
   "metadata": {
    "id": "172uYouqvfhe"
   },
   "source": [
    "Before submitting, save the file name in the following format:\n",
    "\n",
    "\n",
    "  ID_FullName_SectionNo_CSE110_final.ipynb)   \n",
    "  \n",
    "  example: 20201999_Navid_Ahmed_07_CSE110_final.ipynb"
   ]
  }
 ],
 "metadata": {
  "colab": {
   "collapsed_sections": [],
   "name": "CSE110_final_fall2020.ipynb",
   "provenance": []
  },
  "kernelspec": {
   "display_name": "Python 3",
   "language": "python",
   "name": "python3"
  },
  "language_info": {
   "codemirror_mode": {
    "name": "ipython",
    "version": 3
   },
   "file_extension": ".py",
   "mimetype": "text/x-python",
   "name": "python",
   "nbconvert_exporter": "python",
   "pygments_lexer": "ipython3",
   "version": "3.8.3"
  }
 },
 "nbformat": 4,
 "nbformat_minor": 1
}
