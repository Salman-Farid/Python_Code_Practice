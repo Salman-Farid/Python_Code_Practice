{
 "cells": [
  {
   "cell_type": "markdown",
   "metadata": {
    "id": "xDNsncrtU1yM",
    "pycharm": {
     "name": "#%% md\n"
    }
   },
   "source": [
    "# CSE110 Assignment 3\n",
    "\n"
   ]
  },
  {
   "cell_type": "markdown",
   "metadata": {
    "id": "gh4GUDaIU1yO",
    "pycharm": {
     "name": "#%% md\n"
    }
   },
   "source": [
    "\n",
    "## Write the Python code of the following problems:\n",
    "\n",
    "**<font color='red'>[MUST MAINTAIN VARIABLE NAMING CONVENTIONS FOR ALL THE TASKS]</font>**\n",
    "\n",
    "## Part 1: String\n",
    "\n",
    "\n",
    "\n"
   ]
  },
  {
   "cell_type": "markdown",
   "metadata": {
    "id": "KD4EKJf6U1yQ",
    "pycharm": {
     "name": "#%% md\n"
    }
   },
   "source": [
    "### Task 1 \n",
    "\n",
    "Write a Python program that will ask the user to input a string (containing exactly one word). Then your program should print a subsequent substring of the given string.\n",
    "\n",
    "=====================================================================\n",
    "\n",
    "**Example1:**\\\n",
    "Input: BANGLA\\\n",
    "Output:\\\n",
    "B\\\n",
    "BA\\\n",
    "BAN\\\n",
    "BANG\\\n",
    "BANGL\\\n",
    "BANGLA\n",
    "\n",
    "=====================================================================\n",
    "\n",
    "**Example2:**\\\n",
    "Input: DREAM\\\n",
    "Output:\\\n",
    "D\\\n",
    "DR\\\n",
    "DRE\\\n",
    "DREA\\\n",
    "DREAM\n",
    "\n",
    "=====================================================================\n",
    "\n",
    "**Hints(1):** Need to use \"for loop\" for this task.\n",
    "\n",
    "**Hints(2):** Need to use print() function for printing newlines.\n",
    "\n",
    "For example:\\\n",
    "print(1)\\\n",
    "print(2)\n",
    "\n",
    "Output:\\\n",
    "1\\\n",
    "2\n",
    "\n",
    "=====================================================================\n",
    "\n",
    "We need use print(end = \"\") to skip printing the additional newline.\n",
    "\n",
    "For example:\\\n",
    "print(1, end =\" \")\\\n",
    "print(2)\n",
    "\n",
    "Output:(prints the next output right to the previous one)\\\n",
    "12\n",
    "\n",
    "=====================================================================\n",
    "\n",
    "\n",
    "\n",
    "\n"
   ]
  },
  {
   "cell_type": "code",
   "execution_count": 2,
   "metadata": {
    "id": "vJhpmj2XU1yR",
    "pycharm": {
     "name": "#%%\n"
    }
   },
   "outputs": [
    {
     "name": "stdout",
     "output_type": "stream",
     "text": [
      "enter the string:BANGLA\n",
      "B\n",
      "BA\n",
      "BAN\n",
      "BANG\n",
      "BANGL\n",
      "BANGLA\n"
     ]
    }
   ],
   "source": [
    "#Todo\n",
    "s= input(\"enter the string:\")\n",
    "l= len(s)\n",
    "for row in range(l):\n",
    "    for col in range(row+1):\n",
    "        print(s[col],end=\"\")\n",
    "    print()"
   ]
  },
  {
   "cell_type": "markdown",
   "metadata": {
    "id": "pbdeIVcyU1yi",
    "pycharm": {
     "name": "#%% md\n"
    }
   },
   "source": [
    "### Task2\n",
    "\n",
    "Write a Python program that will ask the user to enter a  word as an input. \n",
    "\n",
    "* If the length of the input string is less than 4, then your program should print the same string as an output. \n",
    "* If the input string’s length is greater than 3, then your program should add \"er\" at the end of the input string. \n",
    "* If the input string already ends with \"er\", then add \"est\" instead. \n",
    "* If the input string already ends with \"est\", then your program should print the same input string as an output.\n",
    "\n",
    "=====================================================================\n",
    "\n",
    "**Example 1:**\\\n",
    "Input: strong\\\n",
    "Output: stronger\n",
    "\n",
    "=====================================================================\n",
    "\n",
    "**Example 2:**\\\n",
    "Input: stronger\\\n",
    "Output: strongest\n",
    "\n",
    "=====================================================================\n",
    "\n",
    "**Example 3:**\\\n",
    "Input: strongest\\\n",
    "Output: strongest\n",
    "\n",
    "=====================================================================\n",
    "\n",
    "**Example 4:**\\\n",
    "Input: abc\\\n",
    "Output: abc\n"
   ]
  },
  {
   "cell_type": "code",
   "execution_count": 33,
   "metadata": {
    "id": "A5df9pmJU1yj",
    "pycharm": {
     "name": "#%%\n"
    }
   },
   "outputs": [
    {
     "name": "stdout",
     "output_type": "stream",
     "text": [
      "enter a word: stronger\n",
      "strongest\n"
     ]
    }
   ],
   "source": [
    "#todo\n",
    "w = input(\"enter a word: \")\n",
    "l =len(w) \n",
    "if l<4:\n",
    "    print(w)\n",
    "elif l>3 and w.endswith('er'):\n",
    "    print(w.replace('er','est'))\n",
    "elif l>3 and w.endswith('est'):\n",
    "    print(w)\n",
    "else:\n",
    "    print(w+'er')"
   ]
  },
  {
   "cell_type": "markdown",
   "metadata": {
    "id": "PsBbgc4YU1yp",
    "pycharm": {
     "name": "#%% md\n"
    }
   },
   "source": [
    "### Task3\n",
    "\n",
    "Write a Python program that will ask the user to input a string (containing exactly one word). Then print code for each character in the String using the ord() function. Use any means necessary.\n",
    "\n",
    "To check if your program is working correctly or not, you can find a list of all correct values from the following website. Look at “Dec” and “Char” columns only, ignore other columns.\\\n",
    "link: http://www.asciitable.com/\n",
    "\n",
    "=====================================================================\n",
    "\n",
    "**Example 1:**\\\n",
    "Input: Programming\\\n",
    "Output:\\\n",
    "P : 80\\\n",
    "r : 114\\\n",
    "o : 111\\\n",
    "g : 103\\\n",
    "r : 114\\\n",
    "a : 97\\\n",
    "m : 109\\\n",
    "m : 109\\\n",
    "i : 105\\\n",
    "n : 110\\\n",
    "g : 103\n",
    "\n",
    "=====================================================================\n",
    "\n",
    "**Example 2:**\\\n",
    "Input: hunger\\\n",
    "Output:\\\n",
    "h : 104\\\n",
    "u : 117\\\n",
    "n : 110\\\n",
    "g : 103\\\n",
    "e : 101\\\n",
    "r : 114 "
   ]
  },
  {
   "cell_type": "code",
   "execution_count": 69,
   "metadata": {
    "id": "r8by7ONZU1ys",
    "pycharm": {
     "name": "#%%\n"
    }
   },
   "outputs": [
    {
     "name": "stdout",
     "output_type": "stream",
     "text": [
      "enter the string:hunger\n",
      "h : 104\n",
      "u : 117\n",
      "n : 110\n",
      "g : 103\n",
      "e : 101\n",
      "r : 114\n"
     ]
    }
   ],
   "source": [
    "#todo\n",
    "s= input(\"enter the string:\")\n",
    "for i in s:\n",
    "    print(i ,':',ord(i))"
   ]
  },
  {
   "cell_type": "markdown",
   "metadata": {
    "id": "O8lIVppgU1yw",
    "pycharm": {
     "name": "#%% md\n"
    }
   },
   "source": [
    "### Task4\n",
    "\n",
    "Given a word as input in small letters, print the next alphabet in sequence for each alphabet found in the input.\n",
    "\n",
    "=====================================================================\n",
    "\n",
    "\n",
    "*Hint: You need to use functions ord() and chr(). The ASCII value of ‘a’ is 97 and ‘z’ is 122.*\n",
    "\n",
    "=====================================================================\n",
    "\n",
    "**Example1:**\\\n",
    "Input: abcd\\\n",
    "Output: bcde\n",
    "\n",
    "**Example2:**\\\n",
    "Input: the cow\\\n",
    "Output: uif!dpx\n",
    "\n",
    "**Example3: <font color='red'>[Must fulfil this criteria]</font>**\\\n",
    "Input: xyzabc\\\n",
    "Output: yzabcd\n",
    "\n",
    "\n"
   ]
  },
  {
   "cell_type": "code",
   "execution_count": 78,
   "metadata": {
    "id": "Hyvy8WNNU1yx",
    "pycharm": {
     "name": "#%%\n"
    }
   },
   "outputs": [
    {
     "name": "stdout",
     "output_type": "stream",
     "text": [
      "enter the word: abcd\n",
      "bcde\n"
     ]
    }
   ],
   "source": [
    "#todo\n",
    "s =input(\"enter the word: \" )\n",
    "s2=\"\"\n",
    "for char in s:\n",
    "    s2+=(chr((ord(char)+1)))\n",
    "print(s2)"
   ]
  },
  {
   "cell_type": "markdown",
   "metadata": {
    "id": "leVtdAsdymXM",
    "pycharm": {
     "name": "#%% md\n"
    }
   },
   "source": [
    "### Task 5\n",
    "\n",
    "Write a Python program that will ask the user to enter two strings (s1, s2) as an input. Then create a mixed string with alternative characters from each string. Any leftover chars will be appended at the end of the result string.\n",
    "\n",
    "=====================================================================\n",
    "\n",
    "*Hint: For adding the leftover characters use string slicing.*\n",
    "\n",
    "=====================================================================\n",
    "\n",
    "**Example 1:**\\\n",
    "Input:\\\n",
    "\"ABCD\"\\\n",
    "\"efgh\"\n",
    "\n",
    "Output:\\\n",
    "AeBfCgDh\n",
    "\n",
    "=====================================================================\n",
    "\n",
    "**Example 2:**\\\n",
    "Input:\\\n",
    "\"ABCDENDFGH\"\\\n",
    "\"ijkl\"\n",
    "\n",
    "Output:\\\n",
    "AiBjCkDlENDFGH\n",
    "\n",
    "=====================================================================\n",
    "\n",
    "**Example 3:**\\\n",
    "Input:\\\n",
    "\"ijkl\"\\\n",
    "\"ABCDENDFGH\"\n",
    "\n",
    "Output:\\\n",
    "iAjBkClDENDFGH\n",
    "\n",
    "=====================================================================\n",
    "\n",
    "\n",
    "\n",
    "\n"
   ]
  },
  {
   "cell_type": "code",
   "execution_count": 34,
   "metadata": {
    "id": "kC1cq47myny6",
    "pycharm": {
     "name": "#%%\n"
    }
   },
   "outputs": [
    {
     "name": "stdout",
     "output_type": "stream",
     "text": [
      "enter the string:ABCD\n",
      "enter the string:efgh\n",
      "AeBfCgDh\n"
     ]
    }
   ],
   "source": [
    "#Todo\n",
    "s1 = input(\"enter the string:\")\n",
    "s2 = input(\"enter the string:\")\n",
    "l1 = len(s1)\n",
    "l2 = len(s2)\n",
    "if l1 > l2:\n",
    "    length = l1\n",
    "else:\n",
    "    length = l2\n",
    "ans =''\n",
    "for i in range(length):\n",
    "    if(i < l1):\n",
    "        ans = ans+s1[i]\n",
    "    if(i < l2):\n",
    "        ans = ans+s2[i]\n",
    "print(str(ans))\n"
   ]
  },
  {
   "cell_type": "markdown",
   "metadata": {
    "id": "AWQJrJW3U1y3",
    "pycharm": {
     "name": "#%% md\n"
    }
   },
   "source": [
    "### Task6\n",
    "Given a string, create a new string with all the consecutive duplicates **removed**. \n",
    "\n",
    "=====================================================================\n",
    "\n",
    "**Hint:** You need to make a new string to store your answer. Check whether the current character and the next character are the same, then add that character to the answer.\n",
    "\n",
    "=====================================================================\n",
    "\n",
    "**Example:**\\\n",
    "**Input**:\\\n",
    "AAABBBBCDDBBECE\\\n",
    "**Output:**\\\n",
    "ABCDBECE\n",
    "\n",
    "\n",
    "\n"
   ]
  },
  {
   "cell_type": "code",
   "execution_count": 22,
   "metadata": {
    "id": "oNv_JNgUU1y4",
    "pycharm": {
     "name": "#%%\n"
    }
   },
   "outputs": [
    {
     "name": "stdout",
     "output_type": "stream",
     "text": [
      "enter the string: AAABBBBCDDBBECE\n",
      "ABCDBECE\n"
     ]
    }
   ],
   "source": [
    "#Todo\n",
    "string1=input(\"enter the string: \")\n",
    "new_str = ''\n",
    "for p in string1:\n",
    "    if (new_str [-1::]==p):\n",
    "        pass\n",
    "    else:\n",
    "        new_str +=p\n",
    "print(new_str )"
   ]
  },
  {
   "cell_type": "markdown",
   "metadata": {
    "id": "ptcRoNgKzG9-",
    "pycharm": {
     "name": "#%% md\n"
    }
   },
   "source": [
    "### Task7\n",
    "\n",
    "Write a Python program that takes a string as an input from the user. Then checks whether the input is a palindrome or Not.\n",
    "\n",
    "==========================================\n",
    "\n",
    "*Hints(1): Check the characters from the starting point and the ending point*\n",
    "\n",
    "==========================================\n",
    "\n",
    "**Sample Input**<br/>\n",
    "1235321<br/>\n",
    "\n",
    "**Sample Output**<br/>\n",
    "Palindrome<br/>\n",
    "\n",
    "\n",
    "==========================================\n",
    "\n",
    "**Sample Input**<br/>\n",
    "1233521<br/>\n",
    "\n",
    "**Sample Output**<br/>\n",
    "Not a Palindrome<br/>\n",
    "\n",
    "==========================================\n",
    "\n",
    "**Sample Input**<br/>\n",
    "abcba<br/>\n",
    "\n",
    "**Sample Output**<br/>\n",
    "Palindrome<br/>\n"
   ]
  },
  {
   "cell_type": "code",
   "execution_count": 5,
   "metadata": {
    "id": "v0DzroXdzNeM",
    "pycharm": {
     "name": "#%%\n"
    }
   },
   "outputs": [
    {
     "name": "stdout",
     "output_type": "stream",
     "text": [
      "enter the string: abcba\n",
      "Palindrome\n"
     ]
    }
   ],
   "source": [
    "#Todo\n",
    "s= input(\"enter the string: \")\n",
    "reverse = (s[::-1])\n",
    "if reverse==s:\n",
    "    print(\"Palindrome\")\n",
    "else:\n",
    "    print(\"Not a Palindrome\")\n",
    "    "
   ]
  },
  {
   "cell_type": "markdown",
   "metadata": {
    "id": "vHRyG1W3zOBU",
    "pycharm": {
     "name": "#%% md\n"
    }
   },
   "source": [
    "### Task8\n",
    "\n",
    "Write a Python program that takes a string as an input from the user. Then checks whether the input is a number, word or mixed with digit and letters. \n",
    "\n",
    "* If all the characters are numeric values, print NUMBER. \n",
    "* If they are all letters, print WORD. \n",
    "* If it is mixed, print MIXED.\n",
    "\n",
    "\n",
    "==========================================\n",
    "\n",
    "*Hints: need to take all the alphabets in either uppercase or lower case. Flags/counters can be used to check the different categorories*\n",
    "\n",
    "==========================================\n",
    "\n",
    "**Sample Input**\n",
    "213213\n",
    "\n",
    "**Sample Output**\n",
    "NUMBER\n",
    "\n",
    "\n",
    "==========================================\n",
    "\n",
    "**Sample Input**\n",
    "jhg231j213\n",
    "\n",
    "**Sample Output**\n",
    "MIXED\n",
    "\n",
    "==========================================\n",
    "\n",
    "**Sample Input**\n",
    "Hello\n",
    "\n",
    "**Sample Output**\n",
    "WORD\n"
   ]
  },
  {
   "cell_type": "code",
   "execution_count": 35,
   "metadata": {
    "id": "jRMkFIk20hwL",
    "pycharm": {
     "name": "#%%\n"
    }
   },
   "outputs": [
    {
     "name": "stdout",
     "output_type": "stream",
     "text": [
      "enter an input: hello\n",
      "WORD\n"
     ]
    }
   ],
   "source": [
    "#todo\n",
    "p=0\n",
    "w=0\n",
    "num=input(\"enter an input: \")\n",
    "for i in range (len(num)):\n",
    "    s=ord(num[i])\n",
    "    if(50<=s<=60):\n",
    "        p+=1\n",
    "    elif(75<=s<=95 or  99<=s<115):\n",
    "        w+=1\n",
    "if(p>=1 and w>=1):\n",
    "    print('MIXED')\n",
    "elif(p>=1 and w==0):\n",
    "    print('NUMBER')\n",
    "elif(p==0 and w>=1):\n",
    "    print('WORD')"
   ]
  },
  {
   "cell_type": "markdown",
   "metadata": {
    "id": "4zI6tmFN0i4y",
    "pycharm": {
     "name": "#%% md\n"
    }
   },
   "source": [
    "### Task09\n",
    "\n",
    "Write a python program that takes 2 inputs from the user, where the first input is a string with length greater than 1. The second input is the index of the first given string from where you have to start reversing. Then print the new string back to the user.\n",
    "\n",
    "========================================\n",
    "\n",
    "**Sample Input**<br/>\n",
    "72418, 4<br/>\n",
    "**Sample Output**<br/>\n",
    "81427<br/>\n",
    "\n",
    "\n",
    "========================================\n",
    "\n",
    "**Sample Input**<br/>\n",
    "12345, 2<br/>\n",
    "**Sample Output**<br/>\n",
    "32145<br/>\n",
    "\n",
    "========================================\n",
    "\n",
    "**Sample Input**<br/>\n",
    "aBcd1234defg, 5<br/>\n",
    "**Sample Output**<br/>\n",
    "21dcBa34defg<br/>"
   ]
  },
  {
   "cell_type": "code",
   "execution_count": 17,
   "metadata": {
    "id": "lModRb2L0oqS",
    "pycharm": {
     "name": "#%%\n"
    }
   },
   "outputs": [
    {
     "name": "stdout",
     "output_type": "stream",
     "text": [
      "input:12345\n",
      "index: 2\n",
      "32145\n"
     ]
    }
   ],
   "source": [
    "#todo\n",
    "input1=input(\"input:\")\n",
    "input2=int(input(\"index: \"))\n",
    "s=''\n",
    "for i in range (input2,-1,-1):\n",
    "    s=s+input1[i]\n",
    "for q in range(input2+1,len(input1),1):\n",
    "    s=s+input1[q]\n",
    "print(s)"
   ]
  },
  {
   "cell_type": "markdown",
   "metadata": {
    "id": "mwnPD6m-U1y9",
    "pycharm": {
     "name": "#%% md\n"
    }
   },
   "source": [
    "## Part 2: List\n"
   ]
  },
  {
   "cell_type": "markdown",
   "metadata": {
    "id": "lPoDvm8YU1y9",
    "pycharm": {
     "name": "#%% md\n"
    }
   },
   "source": [
    "### Task 10\n",
    "Write a Python program that reads 10 numbers from the user. After reading each number, print all the numbers that have been entered so far. \n",
    "\n",
    "**Example:**\\\n",
    "After the user enters 3, prints “So far in the list: [3]”\\\n",
    "After the user enters 5, prints “So far in the list: [3, 5]”\\\n",
    "After the user enters 34, prints “So far in the list: [3, 5, 34]”\\\n",
    ".... continues"
   ]
  },
  {
   "cell_type": "code",
   "execution_count": null,
   "metadata": {
    "id": "z26BN9B3U1y_",
    "pycharm": {
     "name": "#%%\n"
    }
   },
   "outputs": [],
   "source": [
    "#Todo\n"
   ]
  },
  {
   "cell_type": "markdown",
   "metadata": {
    "id": "ZrjtT-I_U1zD",
    "pycharm": {
     "name": "#%% md\n"
    }
   },
   "source": [
    "### Task 11\n",
    "Assume, you have been given a list.\n",
    "\n",
    "a_list =  [10, 20, 24, 25, 26, 35, 70]\n",
    "\n",
    "Write a Python program that creates a new list excluding the first and last two elements of the given list and prints the new list. \n",
    "\n",
    "**Output:** [24, 25, 26]\n",
    "\n",
    "==========================================\n",
    "\n",
    "**Hint:**You need to use list slicing.\n"
   ]
  },
  {
   "cell_type": "code",
   "execution_count": 31,
   "metadata": {
    "id": "3r7Ripj7U1zE",
    "pycharm": {
     "name": "#%%\n"
    }
   },
   "outputs": [
    {
     "name": "stdout",
     "output_type": "stream",
     "text": [
      "New list:  [24, 25, 26]\n"
     ]
    }
   ],
   "source": [
    "#Todo\n",
    "a_list=[10,20,24,25,26,35,70]\n",
    "new_list=a_list[2:5]\n",
    "print(\"New list: \",new_list)"
   ]
  },
  {
   "cell_type": "markdown",
   "metadata": {
    "id": "AWgZaBZCzmaM",
    "pycharm": {
     "name": "#%% md\n"
    }
   },
   "source": [
    "### Task 12\n",
    "\n",
    "Write a python program that reads 5 numbers from the user, and then prints them in the reverse order.\n",
    "\n",
    "==========================================\n",
    "\n",
    "*Hint:You need to create a list to store the input numbers. Then use loop to print them in reverse order*\n",
    "\n",
    "\n",
    "==========================================\n",
    "\n",
    "**Sample Input**\n",
    "5, -5, 100, 1, 0\n",
    "\n",
    "**Sample Output**\\\n",
    "0\\\n",
    "1\\\n",
    "100\\\n",
    "-5\\\n",
    "5"
   ]
  },
  {
   "cell_type": "code",
   "execution_count": 3,
   "metadata": {
    "id": "ICW-03YOznTp",
    "pycharm": {
     "name": "#%%\n"
    }
   },
   "outputs": [
    {
     "name": "stdout",
     "output_type": "stream",
     "text": [
      "Enter five numbers: 1234\n",
      "Reverse of the number: 4321\n"
     ]
    }
   ],
   "source": [
    "#todo\n",
    "n=int(input(\"Enter five numbers: \"))\n",
    "rev=0\n",
    "while(n>0):\n",
    "    dig=n%10\n",
    "    rev=rev*10+dig\n",
    "    n=n//10\n",
    "print(\"Reverse of the number:\",rev)\n"
   ]
  },
  {
   "cell_type": "code",
   "execution_count": null,
   "metadata": {
    "pycharm": {
     "name": "#%%\n"
    }
   },
   "outputs": [],
   "source": []
  },
  {
   "cell_type": "markdown",
   "metadata": {
    "id": "7a_1pYjfU1zI",
    "pycharm": {
     "name": "#%% md\n"
    }
   },
   "source": [
    "### Task 13\n",
    "Assume, you have been given two lists. \n",
    "\n",
    "list_one = [1, 2, 3, 4, 5, 6, 7, 8, 9]\\\n",
    "list_two = [10, 11, 12, -13, -14, -15, -16]\n",
    "\n",
    "Write a Python program that creates a new list with all the **even elements** of both of the given lists and prints the new list.\n",
    "\n",
    "\n",
    "**Output:** [2, 4, 6, 8, 10, 12, -14, -16]\n",
    "\n",
    "==========================================\n",
    "\n",
    "**Hint:** You need to create a third list to store the even elements of the given lists.\n",
    "\n"
   ]
  },
  {
   "cell_type": "code",
   "execution_count": null,
   "metadata": {
    "id": "vToa7yazU1zI",
    "pycharm": {
     "name": "#%%\n"
    }
   },
   "outputs": [],
   "source": [
    "#Todo"
   ]
  },
  {
   "cell_type": "markdown",
   "metadata": {
    "id": "QaD4hLn92EKT",
    "pycharm": {
     "name": "#%% md\n"
    }
   },
   "source": [
    "### Task 14\n",
    "\n",
    "Write a Python program to print the elements in a given list **without the duplicates**.\n",
    "\n",
    "===================================================================\n",
    "\n",
    "*Hint:You need to create a third list to store the results. Use membership operators (in, not in) to make sure no duplicates are added.*\n",
    "\n",
    "===================================================================\n",
    "\n",
    "**Sample Input**<br/>\n",
    "0, 0, 1, 2, 3, 4, 4, 5, 6, 6, 6, 7, 8, 9, 4, 4<br/>\n",
    "\n",
    "\n",
    "**Sample Output**<br/>\n",
    "[0, 1, 2, 3, 4, 5, 6, 7, 8, 9]<br/>\n",
    "\n",
    "===================================================================\n",
    "\n",
    "**Sample Input**<br/>\n",
    "7, 7, 7, 1, 0, 3, 3, 55, 9<br/>\n",
    "\n",
    "\n",
    "**Sample Output**<br/>\n",
    "[7, 1, 0, 3, 55, 9]<br/>\n",
    "\n"
   ]
  },
  {
   "cell_type": "code",
   "execution_count": 36,
   "metadata": {
    "id": "EUbQbz5hU1zP",
    "pycharm": {
     "name": "#%%\n"
    }
   },
   "outputs": [
    {
     "name": "stdout",
     "output_type": "stream",
     "text": [
      "[0, 1, 2, 3, 4, 5, 6, 7, 8, 9]\n"
     ]
    }
   ],
   "source": [
    "#Todo\n",
    "p=[0, 0, 1, 2, 3, 4, 4, 5, 6, 6, 6, 7, 8, 9, 4, 4]\n",
    "new =[]\n",
    "for i in p:\n",
    "    if i not in new:\n",
    "        new.append(i)\n",
    "print(new)"
   ]
  },
  {
   "cell_type": "markdown",
   "metadata": {
    "id": "wfcSytFVU1zU",
    "pycharm": {
     "name": "#%% md\n"
    }
   },
   "source": [
    "### Task 15\n",
    "\n",
    "Write a Python program that reads 5 numbers into a list and prints the largest number and its location on the list. <font color='red'>[You are not allowed to use the max(), sort(), sorted() function here]</font>\n",
    "\n",
    "==========================================\n",
    "\n",
    "**Hint:**\\\n",
    " Assume, the first input to be the largest value initially and the location of first input which is 0 to be the initial value of the largest value’s location.\n",
    "You need to be careful while printing the output. Depending on your code might need data conversion.\n",
    "\n",
    "==========================================\n",
    "\n",
    "\n",
    "**Example:**\\\n",
    "**Input:**\\\n",
    " 7, 13, 2, 10, 6\n",
    "\n",
    "**Output:**\\\n",
    "list: [7, 13, 2, 10, 6]\\\n",
    "Largest number 13 was found at location 1.\n",
    "\n",
    "\n"
   ]
  },
  {
   "cell_type": "code",
   "execution_count": 37,
   "metadata": {
    "id": "kXbEh1t3U1zV",
    "pycharm": {
     "name": "#%%\n"
    }
   },
   "outputs": [
    {
     "name": "stdout",
     "output_type": "stream",
     "text": [
      "Enter7\n",
      "Enter13\n",
      "Enter2\n",
      "Enter10\n",
      "Enter6\n",
      "Lagest number 13 was found at location 1\n"
     ]
    }
   ],
   "source": [
    "#Todo\n",
    "num=[]\n",
    "for i in range(5):\n",
    "    p=int(input(\"Enter\"))\n",
    "    num.append(p)\n",
    "location=0\n",
    "largest=num[0]\n",
    "for q in range(1,len(num)):\n",
    "    if num[q] > largest:\n",
    "        largest=num[q]\n",
    "        location=q\n",
    "print('Lagest number',largest,'was found at location', location )"
   ]
  },
  {
   "cell_type": "markdown",
   "metadata": {
    "id": "WZXnxHTdGrMC",
    "pycharm": {
     "name": "#%% md\n"
    }
   },
   "source": [
    "## Optional Tasks (16-20) [Ungraded]"
   ]
  },
  {
   "cell_type": "markdown",
   "metadata": {
    "id": "lvSiLaobU1zY",
    "pycharm": {
     "name": "#%% md\n"
    }
   },
   "source": [
    "### Task 16\n",
    "\n",
    "Write a Python program that reads 5 numbers into a list and prints the smallest and largest number and their location in the list. <font color='red'>[You are not allowed to use the max(), min(), sort(), sorted() functions here]</font>\n",
    "\n",
    "==========================================\n",
    "\n",
    "**Hint:**\\\n",
    " Assume, the first input to be the largest value and the location of the first input which is 0 to be the initial value of the largest value’s location. Similarly, assume the first input to be the smallest value and the location of the first input which is 0 to be the initial value of the smallest value’s location.\n",
    "You need to be careful while printing the output. Depending on your code might need data conversion.\n",
    "\n",
    "==========================================\n",
    "\n",
    "**Example:**\n",
    "\n",
    "**Input:**\\\n",
    "7, 13, -5, 10, 6\n",
    "\n",
    "**Output:**\\\n",
    "List: [7, 13, -5, 10, 6]\\\n",
    "Smallest number -5 was found at location 2\\\n",
    "Largest number 13 was found at location 1\n",
    "\n",
    "\n"
   ]
  },
  {
   "cell_type": "code",
   "execution_count": null,
   "metadata": {
    "id": "yiS5TWSDU1zY",
    "pycharm": {
     "name": "#%%\n"
    }
   },
   "outputs": [],
   "source": [
    "#Todo"
   ]
  },
  {
   "cell_type": "markdown",
   "metadata": {
    "id": "nwRZ3_0tC3fq",
    "pycharm": {
     "name": "#%% md\n"
    }
   },
   "source": [
    "### Task17\n",
    "\n",
    "\n",
    "Write a python program that takes a string as an input from the user. Then modifies the string in such a way that the string always starts with an uppercase letter and the case of each subsequent letter is the opposite of the previous letter.  Then finally prints back the the modified string to the user.\n",
    "\n",
    "\n",
    "==========================================\n",
    "\n",
    "**Sample Input**\\\n",
    "Python programming is very easy\n",
    "\n",
    "**Sample Output**\\\n",
    "PyThOn PrOgRaMmInG iS vErY eAsY\n",
    "\n",
    "==========================================\n",
    "\n",
    "**Sample Input**\\\n",
    "I&nbsp;&nbsp;&nbsp;&nbsp;&nbsp;&nbsp;     love       &nbsp;&nbsp;&nbsp;&nbsp;&nbsp;&nbsp;&nbsp; Python &nbsp;&nbsp;&nbsp;&nbsp;&nbsp;&nbsp;&nbsp;&nbsp;Programming\n",
    "\n",
    "**Sample Output**\\\n",
    "I&nbsp;&nbsp;&nbsp;&nbsp;&nbsp;&nbsp;     lOvE       &nbsp;&nbsp;&nbsp;&nbsp;&nbsp;&nbsp;&nbsp;pYtHoN&nbsp;&nbsp;&nbsp;&nbsp;&nbsp;&nbsp;&nbsp;&nbsp;pRoGrAmMiNg\n",
    "\n",
    "==========================================\n",
    "\n",
    "**Sample Input**\\\n",
    "CSE110 Course\n",
    "\n",
    "**Sample Output**\\\n",
    "CsE110 cOuRsE\n",
    "\n",
    "\n",
    "\n",
    "==========================================\n",
    "\n",
    "**Sample Input**\\\n",
    "c\n",
    "\n",
    "**Sample Output**\\\n",
    "C\n",
    "\n",
    "\n"
   ]
  },
  {
   "cell_type": "code",
   "execution_count": null,
   "metadata": {
    "id": "LEnaTlyoMJdS",
    "pycharm": {
     "name": "#%%\n"
    }
   },
   "outputs": [],
   "source": [
    "#todo"
   ]
  },
  {
   "cell_type": "markdown",
   "metadata": {
    "id": "EEkcqbIJBKel",
    "pycharm": {
     "name": "#%% md\n"
    }
   },
   "source": [
    "### Task 18 \n",
    "An anagram is a play on words created by rearranging the letters of the original word to make a new word or phrase.\n",
    "So we can say two words are anagrams if they contain all of the same letters, but in a different order.\n",
    "\n",
    "\n",
    "Write a python program that takes two strings from the user and tells if they are anagram or not.\n",
    "\n",
    "===============================\n",
    "\n",
    "<b>Input 1 </b><br/>\n",
    "dusty<br/>\n",
    "study<br/>\n",
    "<b> Output 1 </b> <br/>\n",
    "They are anagram<br/>\n",
    "\n",
    "===============================\n",
    "\n",
    "<b> Input 2 </b><br/>\n",
    "dustyyy<br/>\n",
    "study<br/>\n",
    "<b> Output 2 </b><br/>\n",
    "They are not anagram"
   ]
  },
  {
   "cell_type": "code",
   "execution_count": null,
   "metadata": {
    "id": "dvjY9pE2BLVT",
    "pycharm": {
     "name": "#%%\n"
    }
   },
   "outputs": [],
   "source": [
    "# to do"
   ]
  },
  {
   "cell_type": "markdown",
   "metadata": {
    "id": "rguDZ8SBCHD8",
    "pycharm": {
     "name": "#%% md\n"
    }
   },
   "source": [
    "### Task 19\n",
    "Write a Python program that takes two lists as an input from the user. Then print a new list with the **common elements** of both the input lists. \n",
    "\n",
    "=======================================\n",
    "\n",
    "*Hint:You need to create a third list to store the results. Use membership operators (in, not in) to make sure similar elements are added.*\n",
    "\n",
    "=======================================\n",
    "\n",
    "**Sample Input**<br/>\n",
    "A, B, C , D\n",
    "\n",
    "\n",
    "C, E , F, B\n",
    "\n",
    "\n",
    "**Sample Output**<br/>\n",
    "['C', 'B']\n",
    "\n",
    "=======================================\n",
    "\n",
    "**Sample Input**<br/>\n",
    "1, 3, A, H, P\n",
    "\n",
    "\n",
    "A, G, 1, P, O\n",
    "\n",
    "\n",
    "**Sample Output**<br/>\n",
    "['1', 'A', 'P']\n",
    "\n",
    "\n"
   ]
  },
  {
   "cell_type": "code",
   "execution_count": null,
   "metadata": {
    "id": "3iueGiPPGG66",
    "pycharm": {
     "name": "#%%\n"
    }
   },
   "outputs": [],
   "source": [
    "# to do"
   ]
  },
  {
   "cell_type": "markdown",
   "metadata": {
    "id": "tjcE5oitCM2s",
    "pycharm": {
     "name": "#%% md\n"
    }
   },
   "source": [
    "### Task 20\n",
    "\n",
    "Assume, you have been given two lists.\n",
    "\n",
    "[Your program should work for any two given lists]\n",
    "\n",
    "list_one = [1, 2 , 3, 2, 4, 5, 5, 7, 99, 200, 303, 70]\\\n",
    "list_two = [1, 1, 2, 3, 3, 3, 4, 5, 200, 500, -5]\n",
    "\n",
    "Write a Python program that creates a new list with all the **unique elements** of both the given lists. \n",
    "<font color='red'> **You need to make sure that no duplicates are in the result list**</font> and then finally print the result list.\n",
    "\n",
    "**Output**: \n",
    "[1, 2, 4, 5, 7, 99, 200, 303, 70, 3, 500, -5]\n",
    "\n",
    "**Hint:**You need to create a third list to store the results. Use membership operators (in, not in) to make sure no duplicates are added.\n",
    "\n"
   ]
  },
  {
   "cell_type": "code",
   "execution_count": null,
   "metadata": {
    "id": "b2TwkUqnGZU-",
    "pycharm": {
     "name": "#%%\n"
    }
   },
   "outputs": [],
   "source": []
  }
 ],
 "metadata": {
  "colab": {
   "collapsed_sections": [],
   "name": "CSE110 Assignment03 (String-List).ipynb",
   "provenance": []
  },
  "kernelspec": {
   "display_name": "Python 3",
   "language": "python",
   "name": "python3"
  },
  "language_info": {
   "codemirror_mode": {
    "name": "ipython",
    "version": 3
   },
   "file_extension": ".py",
   "mimetype": "text/x-python",
   "name": "python",
   "nbconvert_exporter": "python",
   "pygments_lexer": "ipython3",
   "version": "3.8.3"
  }
 },
 "nbformat": 4,
 "nbformat_minor": 1
}