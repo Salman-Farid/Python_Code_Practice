{
 "cells": [
  {
   "cell_type": "markdown",
   "metadata": {
    "pycharm": {
     "name": "#%% md\n"
    }
   },
   "source": [
    "# Task 1"
   ]
  },
  {
   "cell_type": "code",
   "execution_count": 4,
   "metadata": {
    "pycharm": {
     "name": "#%%\n"
    }
   },
   "outputs": [
    {
     "name": "stdout",
     "output_type": "stream",
     "text": [
      "Enter the Length of a :Rectangle 3\n",
      "Enter the Width of a Rectangle: 2\n",
      "6.0\n"
     ]
    }
   ],
   "source": [
    "#Write your code of task 1 here\n",
    "\n",
    "def area_calculator (length, width):\n",
    "    return length * width\n",
    "length = float(input('Enter the Length of a Rectangle:'))\n",
    "width = float(input('Enter the Width of a Rectangle: '))\n",
    "area =area_calculator (length, width)\n",
    "\n",
    "print(area)"
   ]
  },
  {
   "cell_type": "markdown",
   "metadata": {
    "pycharm": {
     "name": "#%% md\n"
    }
   },
   "source": [
    "#### Task 2"
   ]
  },
  {
   "cell_type": "code",
   "execution_count": 1,
   "metadata": {
    "pycharm": {
     "name": "#%%\n"
    }
   },
   "outputs": [
    {
     "name": "stdout",
     "output_type": "stream",
     "text": [
      "40\n",
      "{2: True, 3: False, 4: True, 5: True, 6: False, 7: False, 8: True, 9: False, 10: True}\n"
     ]
    }
   ],
   "source": [
    "#Write your code of task 2 here\n",
    "my_dict={2:None,3:None,4:None,5:None,6:None,7:None,8:None,9:None,10:None}\n",
    "Input=input()\n",
    "for i in my_dict:\n",
    "    if int(Input)%i==0:\n",
    "        my_dict[i]=True\n",
    "    else:\n",
    "        my_dict[i]=False\n",
    "print(my_dict)"
   ]
  },
  {
   "cell_type": "markdown",
   "metadata": {
    "pycharm": {
     "name": "#%% md\n"
    }
   },
   "source": [
    "Before submitting, save the file name in the following format:\n",
    "\n",
    "\n",
    "    ID_NAME_SECTION_CSE110_QUIZ\n",
    "    \n",
    "    example: 20201999_Shawon_Mostafiz_CSE110_Quiz"
   ]
  },
  {
   "cell_type": "code",
   "execution_count": null,
   "metadata": {
    "pycharm": {
     "name": "#%%\n"
    }
   },
   "outputs": [],
   "source": []
  }
 ],
 "metadata": {
  "kernelspec": {
   "display_name": "Python 3",
   "language": "python",
   "name": "python3"
  },
  "language_info": {
   "codemirror_mode": {
    "name": "ipython",
    "version": 3
   },
   "file_extension": ".py",
   "mimetype": "text/x-python",
   "name": "python",
   "nbconvert_exporter": "python",
   "pygments_lexer": "ipython3",
   "version": "3.8.3"
  }
 },
 "nbformat": 4,
 "nbformat_minor": 4
}