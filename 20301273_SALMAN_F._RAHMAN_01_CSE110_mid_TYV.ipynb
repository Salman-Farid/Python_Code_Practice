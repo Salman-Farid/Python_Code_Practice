{
 "cells": [
  {
   "cell_type": "markdown",
   "metadata": {
    "id": "0ZcT5c9CjT8P"
   },
   "source": [
    "# FALL 2020\n",
    "\n",
    "# CSE110 MID\n",
    "**<font color='red'>[MUST MAINTAIN VARIABLE NAMING CONVENTIONS FOR ALL THE TASKS]</font>**\n",
    "\n",
    "**<font color='red'>[Writing comments(explanatory sentences) in any of the code is completely optional]</font>**"
   ]
  },
  {
   "cell_type": "markdown",
   "metadata": {
    "id": "hQCnOmw6iWER"
   },
   "source": [
    "# Task 01\n",
    "Write a python program that takes the following inputs from the user (according to the given order).\n",
    "\n",
    "* 1 integer which represents the calorie GOAL.\n",
    "* 3 integers representing daily calorie GAIN (carbohydrate, fat and protein respectively).\n",
    "* 1 integer which represents the amount of calorie LOSS throughout the day\n",
    "\n",
    "            calorie_intake = (carb_gain + fat_gain + pro_gain) - loss\n",
    "\n",
    "\n",
    "Your task is to calculate and print the daily **total calorie intake** using the formula above. Then print the information according to the provided chart below. \n",
    "\n",
    "\n",
    "|calorie_intake|Information to be printed|\n",
    "|------|------|\n",
    "|less than equal to (goal - 400)|Too low intake. Not good for health\n",
    "|less than goal and greater than (goal - 400)|Low intake. Might lose weight\n",
    "|equal to goal |Perfect. Weight will be stable\n",
    "|less than (goal + 400) and greater than goal|High Intake. Might gain weight\n",
    "|greater than equal to (goal + 400)|Very high intake. Not good for health\n",
    "\n",
    "\n",
    "\n",
    " ==========================================\n",
    "\n",
    "**Sample input 1:**\\\n",
    "1000\\\n",
    "300\\\n",
    "300\\\n",
    "500\\\n",
    "250\n",
    "\n",
    "\n",
    "**Sample output 1:**\\\n",
    "Low intake. Might lose weight\n",
    "\n",
    "\n",
    "\n",
    "**Explanation:**\\\n",
    "Here, goal= 1000 , carb_gain = 300 , fat_gain = 300 , pro_gain =  500 and loss =  250.\\\n",
    "Calorie_intake = (300+300+500) - 250 which is 850. \\\n",
    "850 is greater than (goal-400 =600) and less than 1000.\n",
    "\n",
    "\n",
    " ==========================================\n",
    "\n",
    "\n",
    "**Sample input 2:**\\\n",
    "1000\\\n",
    "500\\\n",
    "500\\\n",
    "800\\\n",
    "0\n",
    "\n",
    "\n",
    "**Sample output 2:**\\\n",
    "Very high intake. Not good for health\n",
    "\n",
    "\n",
    "**Explanation:**\\\n",
    "Here, goal= 1000 , carb_gain = 500 , fat_gain = 500 , pro_gain =  800 and loss =  0\\\n",
    "Calorie_intake = (500+500+800) - 100 which is 1700.\\\n",
    "1700 is greater than (goal + 400 = 1400).\n",
    "\n",
    "\n",
    "\n",
    " ==========================================\n",
    "\n"
   ]
  },
  {
   "cell_type": "code",
   "execution_count": 3,
   "metadata": {
    "id": "P0vIwmbeiWEU"
   },
   "outputs": [
    {
     "name": "stdout",
     "output_type": "stream",
     "text": [
      "Input Goals: 1000\n",
      "Carbs: 300\n",
      "Fats: 300\n",
      "proteins: 500\n",
      "loss: 250\n",
      "Low intake. Might lose weight\n"
     ]
    }
   ],
   "source": [
    "#task 1\n",
    "#to do\n",
    "goal= int(input(\"Input Goals: \"))\n",
    "carb_gain=int(input(\"Carbs: \"))\n",
    "fat_gain =int(input(\"Fats: \"))\n",
    "pro_gain = int(input(\"Proteins: \"))\n",
    "loss= int(input(\"Loss: \"))\n",
    "calorie_intake = (carb_gain + fat_gain + pro_gain) - loss\n",
    "\n",
    "if calorie_intake <= goal- 400:\n",
    "    print(\"Too low intake. Not good for health\")\n",
    "elif calorie_intake<goal and calorie_intake> goal-400:\n",
    "    print(\"Low intake. Might lose weight\")\n",
    "elif calorie_intake == goal:\n",
    "    print(\"perfect. Weight will be stable\")\n",
    "elif calorie_intake< goal+400 and calorie_intake>goal:\n",
    "    print(\"High intake.Might gain weight\")\n",
    "elif calorie_intake >= (goal+400):\n",
    "    print(\"Very high intake. Not good for health\")"
   ]
  },
  {
   "cell_type": "markdown",
   "metadata": {
    "id": "zUyYKkWViWEd"
   },
   "source": [
    "# Task 02\n",
    "Write a python program that will take a String as input from the user. It will print “Found”, if 4 consecutive lowercase letters are found, otherwise “Not Found”.\n",
    "\n",
    "**<font color='red'>[You cannot use any built in function except input(), print(), len(String), ord(String), chr(int).]</font>**\n",
    "\n",
    "\n",
    " ================================\n",
    "\n",
    "**Sample input 1:**\\\n",
    "aFrese111 \\\n",
    "**Sample output 1:**\\\n",
    "Found\n",
    "\n",
    "**Explanation:**\\\n",
    "Starting from index 2, (r, e, s, e) are 4 consecutive lowercase letters. So, the output is \"Found\".\n",
    "\n",
    " ================================\n",
    "\n",
    "\n",
    "**Sample input 2:**\\\n",
    "abs2We6r \\\n",
    "**Sample output 2:**\\\n",
    "Not found\n",
    "\n",
    "**Explanation:**\\\n",
    "No 3  4 consecutive lowercase letters are found. So, the output is \"Not Found\"."
   ]
  },
  {
   "cell_type": "code",
   "execution_count": 13,
   "metadata": {
    "id": "_oEJ6XwgiWEh"
   },
   "outputs": [
    {
     "name": "stdout",
     "output_type": "stream",
     "text": [
      "Enter the String:aFrese111\n",
      "Found\n"
     ]
    }
   ],
   "source": [
    "#task 2\n",
    "#to do\n",
    "s=input(\"Enter the String:\")\n",
    "word =str(s)\n",
    "length = len(word)\n",
    "if(length<= 0):   \n",
    "    print()\n",
    "else:\n",
    "    i = 0\n",
    "    count = 0\n",
    "    while i < length:\n",
    "        if ord(word[i])>= 97:\n",
    "            if ord(word[i])<= 122:\n",
    "                count = count + 1\n",
    "        i = i + 1\n",
    "    if(count >= 4):\n",
    "        print(\"Found\")\n",
    "    else:\n",
    "        print(\"Not Found\")"
   ]
  },
  {
   "cell_type": "markdown",
   "metadata": {
    "id": "CEhXrQIhiWEo"
   },
   "source": [
    "# Task 03\n",
    "\n",
    "Write a python program that asks the user for a range (a starting number(inclusive) and an ending number(inclusive)). Then take another input to check, if the product of all the digits of each number is divisible by the input or not. If it is divisible, print it.\n",
    "\n",
    "\n",
    " ================================\n",
    "\n",
    "**Sample input 1:**\\\n",
    "25\\\n",
    "30\\\n",
    "4 \n",
    "\n",
    "**Sample output 1:**\\\n",
    "12 16 0\n",
    "\n",
    "**Explanation:**\\\n",
    "Product of all the digits of each number from 25 to 30 is 2x5, 2x6, 2x7, 2x8, 2x9, 3x0. The final product is 10,12,14,16,18,0 respectively. Out of these numbers only 12, 16 and 0 is divisible by 4 and therefore it is printed.\n",
    "\n",
    "\n",
    " ================================\n",
    "\n",
    "**Sample input 1:**\\\n",
    "351\\\n",
    "356\\\n",
    "9\n",
    "\n",
    "**Sample output 1:**\\\n",
    "45 90\n",
    "\n",
    "**Explanation:**\\\n",
    "Product of all the digits of each number from 351 to 356 is 3x5x1, 3x5x2, 3x5x3, 3x5x4, 3x5x5, 3x5x6. The final product is 15, 30, 45, 60, 75, 90 respectively. Out of these numbers only 45 and 90 is divisible by 9 and therefore it is printed.\n",
    "\n",
    "\n",
    " ================================\n",
    "\n"
   ]
  },
  {
   "cell_type": "code",
   "execution_count": 1,
   "metadata": {
    "id": "gWQIR06LiWEp"
   },
   "outputs": [
    {
     "name": "stdout",
     "output_type": "stream",
     "text": [
      "351\n",
      "356\n",
      "9\n",
      "Output:  45 "
     ]
    }
   ],
   "source": [
    "#task 3\n",
    "#to do\n",
    "a = int(input())\n",
    "b = int(input())\n",
    "c = int(input())\n",
    "multiplier = 1\n",
    "limit = int(a)\n",
    "while limit <= int(b):\n",
    "    for i in str(a):\n",
    "        multiplier *= int(i)\n",
    "        limit += 1\n",
    "        a = limit\n",
    "        if multiplier % int(c) == 0:\n",
    "            print(\"Output: \",multiplier, end=\" \")\n",
    "            multiplier = 1"
   ]
  },
  {
   "cell_type": "code",
   "execution_count": null,
   "metadata": {},
   "outputs": [],
   "source": []
  }
 ],
 "metadata": {
  "colab": {
   "collapsed_sections": [],
   "name": "set02_MHT.ipynb",
   "provenance": []
  },
  "kernelspec": {
   "display_name": "Python 3",
   "language": "python",
   "name": "python3"
  },
  "language_info": {
   "codemirror_mode": {
    "name": "ipython",
    "version": 3
   },
   "file_extension": ".py",
   "mimetype": "text/x-python",
   "name": "python",
   "nbconvert_exporter": "python",
   "pygments_lexer": "ipython3",
   "version": "3.8.3"
  }
 },
 "nbformat": 4,
 "nbformat_minor": 1
}
