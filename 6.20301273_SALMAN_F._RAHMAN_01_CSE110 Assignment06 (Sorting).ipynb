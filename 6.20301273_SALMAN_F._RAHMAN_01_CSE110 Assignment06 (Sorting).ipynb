{
 "cells": [
  {
   "cell_type": "markdown",
   "metadata": {
    "id": "oMYzsTcnHEll"
   },
   "source": [
    "# CSE110 Assignment 6\n",
    "\n",
    "\n",
    "## Write the Python code of the following problems:\n",
    "**<font color='red'>[MUST MAINTAIN VARIABLE NAMING CONVENTIONS FOR ALL THE TASKS]</font>**"
   ]
  },
  {
   "cell_type": "markdown",
   "metadata": {
    "id": "jT-t2zlnHEll"
   },
   "source": [
    "### Task 1\n",
    "\n",
    "Given a list named my_list. <br/>\n",
    "my_list=[10,1,20,3,6,2,5,11,15,2,12,14,17,18,29] <br/>\n",
    "Now use bubble sort to sort my_list into ascending order.\n",
    "\n",
    "**Output**<br/>\n",
    "[1, 2, 2, 3, 5, 6, 10, 11, 12, 14, 15, 17, 18, 20, 29]"
   ]
  },
  {
   "cell_type": "code",
   "execution_count": 17,
   "metadata": {
    "executionInfo": {
     "elapsed": 3026,
     "status": "ok",
     "timestamp": 1607519486474,
     "user": {
      "displayName": "Nadia Rubaiyat",
      "photoUrl": "",
      "userId": "06231355892473397655"
     },
     "user_tz": -360
    },
    "id": "7qXVakLgHElm"
   },
   "outputs": [
    {
     "name": "stdout",
     "output_type": "stream",
     "text": [
      "[1, 2, 2, 3, 5, 6, 10, 11, 12, 14, 15, 17, 18, 20, 29]\n"
     ]
    }
   ],
   "source": [
    "#todo - Bubble sort starts arranging the elements from the top\n",
    "my_list=[10,1,20,3,6,2,5,11,15,2,12,14,17,18,29]\n",
    "for i in range(len(my_list)-1):\n",
    "    for j in range(0,len(my_list)-i-1):\n",
    "        if my_list[j]>my_list[j+1]:\n",
    "            temp=my_list[j]\n",
    "            my_list[j]=my_list[j+1]\n",
    "            my_list[j+1]=temp\n",
    "print(my_list)"
   ]
  },
  {
   "cell_type": "markdown",
   "metadata": {
    "id": "w1QgeWd2HElp"
   },
   "source": [
    "### Task 2\n",
    "\n",
    "Given a list named my_list. <br/>\n",
    "my_list=[10,1,20,3,6,2,5,11,15,2,12,14,17,18,29] <br/>\n",
    "Now use selection sort to sort my_list into ascending order.\n",
    "\n",
    "**Output**<br/>\n",
    "[1, 2, 2, 3, 5, 6, 10, 11, 12, 14, 15, 17, 18, 20, 29]\n",
    "\n"
   ]
  },
  {
   "cell_type": "code",
   "execution_count": 16,
   "metadata": {
    "executionInfo": {
     "elapsed": 2243,
     "status": "ok",
     "timestamp": 1607519505131,
     "user": {
      "displayName": "Nadia Rubaiyat",
      "photoUrl": "",
      "userId": "06231355892473397655"
     },
     "user_tz": -360
    },
    "id": "am0B_8ICHElq"
   },
   "outputs": [
    {
     "name": "stdout",
     "output_type": "stream",
     "text": [
      "[1, 2, 2, 3, 5, 6, 10, 11, 12, 14, 15, 17, 18, 20, 29]\n"
     ]
    }
   ],
   "source": [
    "def selection_sort(sort):\n",
    "    for i in range(len(sort)):\n",
    "        min=sort[i]\n",
    "        min_i=i\n",
    "        for j in range(i+1,len(sort)):\n",
    "            if sort[j]<min:\n",
    "                min=sort[j]\n",
    "                min_i=j\n",
    "        temp=sort[min_i]\n",
    "        sort[min_i]=sort[i]\n",
    "        sort[i]=temp\n",
    "    return sort\n",
    "n=[10,1,20,3,6,2,5,11,15,2,12,14,17,18,29]\n",
    "sorted_numbers=selection_sort(n)\n",
    "print(sorted_numbers)"
   ]
  },
  {
   "cell_type": "markdown",
   "metadata": {
    "id": "j4ffr2CAHElt"
   },
   "source": [
    "### Task  3\n",
    "\n",
    "Given a list named my_list. <br/>\n",
    "my_list=[10,1,20,3,6,2,5,11,15,2,12,14,17,18,29] <br/>\n",
    "Now use any of the two sorts used above to sort the list in descending order.\n",
    "\n",
    "**Output**<br/>\n",
    "[29, 20, 18, 17, 15, 14, 12, 11, 10, 6, 5, 3, 2, 2, 1]\n"
   ]
  },
  {
   "cell_type": "code",
   "execution_count": 8,
   "metadata": {
    "id": "n2X3YR-_HElt"
   },
   "outputs": [
    {
     "name": "stdout",
     "output_type": "stream",
     "text": [
      "[29, 20, 18, 17, 15, 14, 12, 11, 10, 6, 5, 3, 2, 2, 1]\n"
     ]
    }
   ],
   "source": [
    "#todo\n",
    "my_list=[10,1,20,3,6,2,5,11,15,2,12,14,17,18,29]\n",
    "for i in range(len(my_list)):\n",
    "    lowest = i\n",
    "    for j in range(i+1, len(my_list)):\n",
    "        if my_list[j] > my_list[lowest]:\n",
    "            lowest = j\n",
    "    temp = my_list[lowest]\n",
    "    my_list[lowest] = my_list[i]\n",
    "    my_list[i] = temp\n",
    "print(my_list)"
   ]
  },
  {
   "cell_type": "markdown",
   "metadata": {
    "id": "9iYiiTWWHElw"
   },
   "source": [
    "### Task 4\n",
    "\n",
    "Suppose you have a sitting arrangement of the students of the final exam in a list. The list contains the last two digits of their roll number.<br/>\n",
    "\n",
    "sitting_list=[10,30,20,70,11,15,22,16,58,100,12,56,70,80] <br/>\n",
    "\n",
    "Now you want to organize the sitting arrangement. You decided to sort all the students in the even indices into ascending order and all the students in the odd indices  into descending order.  <br/>\n",
    "\n",
    "So write a python program that organizes the list for you the way you decided.<br/>\n",
    "\n",
    "\n",
    "**Sample Output**<br/>\n",
    "[10, 100, 11, 80, 12, 70, 20, 56, 22, 30, 58, 16, 70, 15]"
   ]
  },
  {
   "cell_type": "code",
   "execution_count": 7,
   "metadata": {
    "id": "nPdUAKDJHElw"
   },
   "outputs": [
    {
     "name": "stdout",
     "output_type": "stream",
     "text": [
      "[10, 100, 11, 80, 12, 70, 20, 56, 22, 30, 58, 16, 70, 15]\n"
     ]
    }
   ],
   "source": [
    "#todo\n",
    "sitting_list=[10,30,20,70,11,15,22,16,58,100,12,56,70,80]\n",
    "\n",
    "for i in range(0,len(sitting_list),1):\n",
    "    for j in range(0,len(sitting_list)-2):\n",
    "        \n",
    "        if sitting_list[j]<sitting_list[j+2] and j%2!=0:\n",
    "            temp=sitting_list[j]\n",
    "            sitting_list[j]=sitting_list[j+2]\n",
    "            sitting_list[j+2]=temp\n",
    "\n",
    "        elif sitting_list[j]>sitting_list[j+2] and j%2==0:\n",
    "            temp=sitting_list[j]\n",
    "            sitting_list[j]=sitting_list[j+2]\n",
    "            sitting_list[j+2]=temp\n",
    "            \n",
    "        else:\n",
    "            pass\n",
    "        \n",
    "print(sitting_list)"
   ]
  },
  {
   "cell_type": "markdown",
   "metadata": {
    "id": "oVR1Tsa0HElz"
   },
   "source": [
    "### Task 5\n",
    "\n",
    "Suppose a list contains the final exam results of CSE110, PHY111, and MAT110 of each student in a listed form. Your task is to sort the list based on a course name that will be given by the user and print the names after sorting. <br/>\n",
    "\n",
    "For example, a list looks like <br/>\n",
    "lst = [ [\"Farzad\",95,87,91] , [\"Mahjabin\",92,90,83], [\"Sadman\",87,92,80], [\"Nakhla\",85,94,90] ] <br/>\n",
    "where for each list, 1st index is name, 2nd index is CSE110, 3rd index is PHY111 and 4th index is MAT110. \n",
    "\n",
    "=====================================================\n",
    "\n",
    "**Hint:**<br/>\n",
    "create a function for sorting, then call it everytime instead of rewriting the code.\n",
    "\n",
    "Get the data in the individual lists from the given nested list.\n",
    "\n",
    "=====================================================\n",
    "\n",
    "**Sample Input**<br/>\n",
    "MAT110\n",
    "\n",
    "**Sample Output**<br/>\n",
    "Farzad <br/>\n",
    "Nakhla <br/>\n",
    "Mahjabin <br/>\n",
    "Sadman\n",
    "\n",
    "\n"
   ]
  },
  {
   "cell_type": "code",
   "execution_count": 6,
   "metadata": {
    "id": "539b2P1NHElz"
   },
   "outputs": [
    {
     "name": "stdout",
     "output_type": "stream",
     "text": [
      "MAT110\n",
      "Farzad\n",
      "Nakhla\n",
      "Mahjabin\n",
      "Sadman\n"
     ]
    }
   ],
   "source": [
    "#todo\n",
    "lst = [ ['Farzad',95,87,91] , ['Mahjabin',92,90,83], ['Sadman',87,92,80], ['Nakhla',85,94,90] ]\n",
    "course=input().lower()\n",
    "if course==\"cse110\":\n",
    "    index2=1\n",
    "elif course==\"phy111\":\n",
    "    index2=2\n",
    "elif course==\"mat110\":\n",
    "    index2=3\n",
    "for p in range(4):\n",
    "    max_index=p\n",
    "    for q in range(p+1,4):\n",
    "        if lst[q][index2]>lst[max_index][index2]:\n",
    "            max_index=q\n",
    "    print(lst[max_index][0])\n",
    "    temp=lst[p]\n",
    "    lst[p]=Lst[max_index]\n",
    "    lst[max_index]=temp"
   ]
  },
  {
   "cell_type": "markdown",
   "metadata": {
    "id": "B0Rqbyi4HEl2"
   },
   "source": [
    "### Task 6\n",
    "\n",
    "Suppose you have a list named my_list. Your task is to sort the list and print the count of numbers that have changed their position. <br/>\n",
    "my_list = [4,2,3,1,6,5] <br/>\n",
    "Sorted list would be [1,2,3,4,5,6] where 4 numbers have changed their position.\n",
    "\n",
    "\n",
    "**Sample Output**<br/>\n",
    "4"
   ]
  },
  {
   "cell_type": "code",
   "execution_count": 1,
   "metadata": {
    "id": "AMc8jAa7HEl2"
   },
   "outputs": [
    {
     "name": "stdout",
     "output_type": "stream",
     "text": [
      "4\n"
     ]
    }
   ],
   "source": [
    "#todo\n",
    "def function_sort(my_list):\n",
    "    n_l=[4,2,3,1,6,5]\n",
    "    for p in range(len(my_list)-1,0,-1):\n",
    "        for q in range(p):\n",
    "            if my_list[q]>my_list[q+1]:\n",
    "                temp=my_list[q]\n",
    "                my_list[q]=my_list[q+1]\n",
    "                my_list[q+1]=temp                \n",
    "    count=0\n",
    "    for p in range(len(my_list)):\n",
    "        if n_l[p]==my_list[p]:\n",
    "            count=count+1\n",
    "    removeing=len(my_list)-count\n",
    "    print(removeing)\n",
    "my_list=[4,2,3,1,6,5]\n",
    "function_sort(my_list)"
   ]
  },
  {
   "cell_type": "markdown",
   "metadata": {
    "id": "iIH5n0sJHEl5"
   },
   "source": [
    "### Task 7\n",
    "\n",
    "Write a python program that takes two lists from the user, merges the two lists, sorts the list, and find the median of the elements of the two lists.\n",
    "\n",
    "=====================================================\n",
    "\n",
    "\n",
    "**Sample Input 1**<br/>\n",
    "list_one = [1,2,1,4] <br/>\n",
    "list_two = [5,4,1]\n",
    "\n",
    "\n",
    "**Sample Output 1**<br/>\n",
    "Sorted list = [1, 1, 1, 2, 4, 4, 5] <br/>\n",
    "Median = 2\n",
    "\n",
    "=====================================================\n",
    "\n",
    "\n",
    "**Sample Input 2**<br/>\n",
    "list_one= [1,7,9,10] <br/>\n",
    "list_two= [2,7,6,5]\n",
    "\n",
    "\n",
    "**Sample Output 2**<br/>\n",
    "Sorted list=[1, 2, 5, 6, 7, 7, 9, 10] <br/>\n",
    "Median=6.5\n",
    "\n"
   ]
  },
  {
   "cell_type": "code",
   "execution_count": 5,
   "metadata": {
    "id": "KsFxC7XbHEl6"
   },
   "outputs": [
    {
     "name": "stdout",
     "output_type": "stream",
     "text": [
      "list_one=\n",
      "1\n",
      "2\n",
      "1\n",
      "4\n",
      "\n",
      "list_two=)\n",
      "5\n",
      "4\n",
      "1\n",
      "\n",
      "Sorted list= [1, 1, 1, 2, 4, 4, 5]\n",
      "Median= 2\n"
     ]
    }
   ],
   "source": [
    "#todo\n",
    "l1=[]\n",
    "l2=[]\n",
    "try:\n",
    "    print(\"list_one=\")\n",
    "    while 1:\n",
    "        l1.append(int(input()))\n",
    "except:\n",
    "    pass\n",
    "try:\n",
    "    print(\"list_two=)\")\n",
    "    while 1:\n",
    "        l2.append(int(input()))\n",
    "except:\n",
    "    pass\n",
    "l1.extend(l2)\n",
    "for p in range(len(l1)):\n",
    "    min_index=p\n",
    "    for q in range(p+1,len(l1)):\n",
    "        if l1[min_index]>l1[q]:\n",
    "            min_index=q\n",
    "    temp=l1[p]\n",
    "    l1[p]=l1[min_index]\n",
    "    l1[min_index]=temp\n",
    "print(\"Sorted list=\",l1)\n",
    "if len(l1)%2:\n",
    "    print(\"Median=\",l1[int((len(l1)-1)/2)])\n",
    "else :\n",
    "    print(\"Median=\",(l1[int((len(l1)-2)/2)]+l1[int(len(l1)/2)])/2)"
   ]
  },
  {
   "cell_type": "markdown",
   "metadata": {
    "id": "-XKiwBR1HEl8"
   },
   "source": [
    "### Task 8\n",
    "\n",
    "\n",
    "Write a python program that takes a list from user containing both positive and negative numbers. The program then finds two pairs of values whose summation is closest to zero.\n",
    "\n",
    "=====================================================\n",
    "\n",
    "**Sample Input 1**<br/>\n",
    "list_one = [-10,15,2,4,-4,7,-8] \n",
    "\n",
    "\n",
    "**Sample Output 1**<br/>\n",
    "Two pairs which have the smallest sum = 4 and -4\n",
    "\n",
    "=====================================================\n",
    "\n",
    "\n",
    "**Sample Input 2**<br/>\n",
    "list_one = [1,-8,4,-7,-20,26,70,-85]\n",
    "\n",
    "\n",
    "**Sample Output 2**<br/>\n",
    "Two pairs which have the smallest sum = 4 and -7"
   ]
  },
  {
   "cell_type": "code",
   "execution_count": 3,
   "metadata": {
    "id": "5ORSGa5GHEl9"
   },
   "outputs": [
    {
     "name": "stdout",
     "output_type": "stream",
     "text": [
      "list=\n",
      "1\n",
      "-8\n",
      "4\n",
      "-7\n",
      "-20\n",
      "26\n",
      "70\n",
      "-85\n",
      "\n",
      "Two pairs which have the smallest sum = 4 and -7\n"
     ]
    }
   ],
   "source": [
    "#todo\n",
    "l_1=[]\n",
    "try:\n",
    "    print(\"list=\")\n",
    "    while 1:\n",
    "        l_1.append(int(input()))\n",
    "except:\n",
    "    pass\n",
    "s_l=[]\n",
    "for p in range(len(l_1)-1):\n",
    "    for j in range(p+1,len(l_1)):\n",
    "        s_l.append([p,j,l_1[p]+l_1[j]])\n",
    "for i in range(len(s_l)):\n",
    "    min_index=p\n",
    "    for j in range(i+1,len(s_l)):\n",
    "        if s_l[j][2]**2<s_l[min_index][2]**2:\n",
    "            min_index=j\n",
    "    temp=s_l[i]\n",
    "    s_l[i]=s_l[min_index]\n",
    "    s_l[min_index]=temp\n",
    "print(\"Two pairs which have the smallest sum =\",l_1[s_l[0][0]],\"and\",l_1[s_l[0][1]])"
   ]
  }
 ],
 "metadata": {
  "colab": {
   "collapsed_sections": [],
   "name": "CSE110 Assignment06 (Sorting).ipynb",
   "provenance": []
  },
  "kernelspec": {
   "display_name": "Python 3",
   "language": "python",
   "name": "python3"
  },
  "language_info": {
   "codemirror_mode": {
    "name": "ipython",
    "version": 3
   },
   "file_extension": ".py",
   "mimetype": "text/x-python",
   "name": "python",
   "nbconvert_exporter": "python",
   "pygments_lexer": "ipython3",
   "version": "3.8.3"
  }
 },
 "nbformat": 4,
 "nbformat_minor": 1
}
